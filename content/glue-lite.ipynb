{
 "cells": [
  {
   "cell_type": "markdown",
   "id": "2a80ca7a",
   "metadata": {},
   "source": [
    "# Welcome to glupyter-lite!\n",
    "\n",
    "This notebook contains an example of glue-jupyter running inside of [JupyterLite](https://jupyterlite.readthedocs.io/en/stable/), which means that this is running entirely in the browser! This did require a few specific customizations that I'll describe below."
   ]
  },
  {
   "cell_type": "code",
   "execution_count": null,
   "id": "598d9d58",
   "metadata": {},
   "outputs": [],
   "source": [
    "import piplite"
   ]
  },
  {
   "cell_type": "markdown",
   "id": "755bae00",
   "metadata": {},
   "source": [
    "Our dependencies `fast-histogram` and `mpl-scatter-density` both require C extensions, so we need to build Pyodide-compatible wheels using Emscripten. There are a couple of other packages that didn't have compatible wheels available (note that Vispy still doesn't work yet, despite us building our own wheel, due to some runtime issues with emscripten not being recognized as an environment)."
   ]
  },
  {
   "cell_type": "code",
   "execution_count": null,
   "id": "26061cfd",
   "metadata": {},
   "outputs": [],
   "source": [
    "await piplite.install('shapely')\n",
    "await piplite.install('pypi/fast_histogram-0.14-cp39-abi3-pyodide_2024_0_wasm32.whl')\n",
    "await piplite.install('pypi/mpl_scatter_density-0.8-py3-none-any.whl')\n",
    "await piplite.install('pypi/glfw-2.9.0-py3-none-any.whl')\n",
    "await piplite.install('pypi/vispy-0.15.2-cp312-cp312-pyodide_2024_0_wasm32.whl')"
   ]
  },
  {
   "cell_type": "code",
   "execution_count": null,
   "id": "60a165d2",
   "metadata": {},
   "outputs": [],
   "source": [
    "# Do things like this to get around the fact that pyzmq is missing\n",
    "await piplite.install(\"glue-core\")\n",
    "await piplite.install(\"bqplot\")\n",
    "await piplite.install(\"bqplot_image_gl\")\n",
    "await piplite.install(\"ipykernel\")\n",
    "await piplite.install(\"ipyvue\")\n",
    "await piplite.install(\"ipyvuetify\")\n",
    "await piplite.install(\"ipywidgets\")\n"
   ]
  },
  {
   "cell_type": "markdown",
   "id": "f68dcada",
   "metadata": {},
   "source": [
    "I had to make a few changes to `glue-jupyter` to make things work in JupyterLite, so we install from our own wheel. In particular, the changes made from regular `glue-jupyter` are:\n",
    "* I built a wheel for `tornado`, but it didn't seem to load properly in here. So I changed `glue-jupyter` to use the `asyncio` event loop instead (which `tornado.IOLoop` is just a wrapper around anyways).\n",
    "* The glue-jupyter toolbar uses `traitlets.Any` for `active_tool_id`, which JupyterLite doesn't seem to like. But the tool ID is always just a string or `None`, so we just use `traitlets.Unicode` with `allow_none=True` instead.\n",
    "* It also seems that JupyterLite doesn't like the `vue_` methods that `ipyvuetify` can expose to Vue from Python - I'm not sure why yet, but I suspect that it's related to how that uses the Jupyter comms. For the histogram viewer widget, I used a hacky tweak where we instead modify a traitlet flag and then call the code that we would've wanted in the observer."
   ]
  },
  {
   "cell_type": "code",
   "execution_count": null,
   "id": "b6172cc6",
   "metadata": {},
   "outputs": [],
   "source": [
    "await piplite.install(\"pypi/glue_jupyter-0.10.2.dev517+ge72a5fbca-py3-none-any.whl\")"
   ]
  },
  {
   "cell_type": "code",
   "execution_count": null,
   "id": "f2af3615",
   "metadata": {},
   "outputs": [],
   "source": [
    "from random import randint\n",
    "from glue.core import Data, BaseCartesianData\n",
    "from glue_jupyter import jglue\n",
    "from glue_jupyter.bqplot.histogram import BqplotHistogramView \n",
    "from glue_jupyter.bqplot.scatter import BqplotScatterView"
   ]
  },
  {
   "cell_type": "code",
   "execution_count": null,
   "id": "23fb1756",
   "metadata": {},
   "outputs": [],
   "source": [
    "app = jglue()"
   ]
  },
  {
   "cell_type": "code",
   "execution_count": null,
   "id": "b80a8bae",
   "metadata": {},
   "outputs": [],
   "source": [
    "N = 50\n",
    "x = [randint(0, 50) for _ in range(N)]\n",
    "y = [randint(0, 50) for _ in range(N)]\n",
    "z = [randint(0, 50) for _ in range(N)]\n",
    "data = Data(label=\"Data\", x=x, y=y, z=z)\n",
    "app.data_collection.append(data)"
   ]
  },
  {
   "cell_type": "code",
   "execution_count": null,
   "id": "dc303e71",
   "metadata": {},
   "outputs": [],
   "source": [
    "from matplotlib import cm\n",
    "\n",
    "scatter = app.new_data_viewer(BqplotScatterView, data=data)\n",
    "layer = scatter.layers[0]\n",
    "data.style.color = \"red\"\n",
    "scatter.state.x_att = data.id[\"x\"]\n",
    "scatter.state.y_att = data.id[\"y\"]\n",
    "layer.state.size_mode = \"Linear\"\n",
    "layer.state.size_att = data.id[\"z\"]\n",
    "layer.state.cmap_mode = \"Linear\"\n",
    "layer.state.fill = True\n",
    "layer.state.alpha = 0.6\n",
    "layer.state.size_scaling = 8\n",
    "layer.state.cmap = cm.viridis"
   ]
  },
  {
   "cell_type": "code",
   "execution_count": null,
   "id": "02af8622",
   "metadata": {},
   "outputs": [],
   "source": [
    "histogram = app.new_data_viewer(BqplotHistogramView, data=data)\n",
    "layer.state.x_att = data.id[\"x\"]"
   ]
  }
 ],
 "metadata": {
  "kernelspec": {
   "display_name": "Python",
   "language": "python",
   "name": "python"
  },
  "language_info": {
   "name": "python"
  }
 },
 "nbformat": 4,
 "nbformat_minor": 5
}
