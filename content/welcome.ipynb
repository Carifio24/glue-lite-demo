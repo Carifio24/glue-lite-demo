{
 "cells": [
  {
   "cell_type": "markdown",
   "id": "2a80ca7a",
   "metadata": {},
   "source": [
    "# Welcome to glue-lite!\n"
   ]
  },
  {
   "cell_type": "code",
   "execution_count": null,
   "id": "598d9d58",
   "metadata": {},
   "outputs": [],
   "source": [
    "import piplite"
   ]
  },
  {
   "cell_type": "code",
   "execution_count": null,
   "id": "26061cfd",
   "metadata": {},
   "outputs": [],
   "source": [
    "await piplite.install('shapely')\n",
    "await piplite.install('pypi/fast_histogram-0.14-cp39-abi3-pyodide_2024_0_wasm32.whl')\n",
    "await piplite.install('pypi/glfw-2.9.0-py3-none-any.whl')"
   ]
  },
  {
   "cell_type": "code",
   "execution_count": null,
   "id": "b9138c96",
   "metadata": {},
   "outputs": [],
   "source": [
    "await piplite.install('pypi/vispy-0.15.2-cp312-cp312-pyodide_2024_0_wasm32.whl')\n",
    "await piplite.install('pypi/mpl_scatter_density-0.8-py3-none-any.whl')\n",
    "await piplite.install(\"glue-core\")"
   ]
  },
  {
   "cell_type": "code",
   "execution_count": null,
   "id": "60a165d2",
   "metadata": {},
   "outputs": [],
   "source": [
    "# Do things like this to get around the fact that pyzmq is missing\n",
    "await piplite.install(\"bqplot\")\n",
    "await piplite.install(\"bqplot_image_gl\")\n",
    "await piplite.install(\"ipykernel\")\n",
    "await piplite.install(\"ipyvue\")\n",
    "await piplite.install(\"ipyvuetify\")\n",
    "await piplite.install(\"ipywidgets\")\n",
    "await piplite.install(\"glue-jupyter\", deps=False, keep_going=True)"
   ]
  },
  {
   "cell_type": "code",
   "execution_count": null,
   "id": "7d0f208c",
   "metadata": {},
   "outputs": [],
   "source": [
    "# We built a tornado wheel, but it doesn't seem to work(?)\n",
    "# Use this hack for now\n",
    "from datetime import timedelta\n",
    "from inspect import iscoroutinefunction\n",
    "from asyncio import create_task, get_running_loop\n",
    "import glue_jupyter.utils\n",
    "\n",
    "def get_loop():\n",
    "    return get_running_loop()\n",
    "\n",
    "glue_jupyter.utils.get_ioloop = get_loop\n",
    "\n",
    "loop = get_loop()\n",
    "\n",
    "def add_callback(function, *args):\n",
    "    if iscoroutinefunction(function):\n",
    "        loop.call_soon(create_task, function(*args))\n",
    "    else:\n",
    "        loop.call_soon(function, *args)\n",
    "\n",
    "loop.add_callback = add_callback\n",
    "\n",
    "def add_timeout(delta, function, *args):\n",
    "    if isinstance(delta, timedelta):\n",
    "        t = delta.seconds\n",
    "    else:\n",
    "        t = delta\n",
    "    return loop.call_at(t, function, *args)\n",
    "\n",
    "loop.add_timeout = add_timeout"
   ]
  },
  {
   "cell_type": "code",
   "execution_count": null,
   "id": "f2af3615",
   "metadata": {},
   "outputs": [],
   "source": [
    "from glue_jupyter import jglue\n",
    "from glue.core import Data, BaseCartesianData\n",
    "from random import randint\n",
    "from glue_jupyter.bqplot.scatter import BqplotScatterView"
   ]
  },
  {
   "cell_type": "code",
   "execution_count": null,
   "id": "23fb1756",
   "metadata": {},
   "outputs": [],
   "source": [
    "app = jglue()"
   ]
  },
  {
   "cell_type": "code",
   "execution_count": null,
   "id": "b80a8bae",
   "metadata": {},
   "outputs": [],
   "source": [
    "N = 50\n",
    "x = [randint(0, 50) for _ in range(N)]\n",
    "y = [randint(0, 50) for _ in range(N)]\n",
    "z = [randint(0, 50) for _ in range(N)]\n",
    "data = Data(label=\"Data\", x=x, y=y, z=z)\n",
    "app.data_collection.append(data)"
   ]
  },
  {
   "cell_type": "code",
   "execution_count": null,
   "id": "dc303e71",
   "metadata": {},
   "outputs": [],
   "source": [
    "viewer = app.new_data_viewer(BqplotScatterView, data=data)"
   ]
  }
 ],
 "metadata": {
  "kernelspec": {
   "display_name": "Python",
   "language": "python",
   "name": "python"
  },
  "language_info": {
   "name": "python"
  }
 },
 "nbformat": 4,
 "nbformat_minor": 5
}
