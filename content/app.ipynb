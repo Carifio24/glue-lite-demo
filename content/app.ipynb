{
 "cells": [
  {
   "cell_type": "markdown",
   "id": "2a80ca7a",
   "metadata": {},
   "source": [
    "# Welcome to glupyter-lite!\n",
    "\n",
    "This notebook contains an example of glue-jupyter running inside of [JupyterLite](https://jupyterlite.readthedocs.io/en/stable/), which means that this is running entirely in the browser! This did require a few specific customizations that I'll describe below."
   ]
  },
  {
   "cell_type": "code",
   "execution_count": null,
   "id": "598d9d58",
   "metadata": {},
   "outputs": [],
   "source": [
    "import piplite"
   ]
  },
  {
   "cell_type": "markdown",
   "id": "755bae00",
   "metadata": {},
   "source": [
    "Our dependencies `fast-histogram` and `mpl-scatter-density` both require C extensions, so we need to build Pyodide-compatible wheels using Emscripten. There are a couple of other packages that didn't have compatible wheels available (note that Vispy still doesn't work yet, despite us building our own wheel, due to some runtime issues with emscripten not being recognized as an environment)."
   ]
  },
  {
   "cell_type": "code",
   "execution_count": null,
   "id": "26061cfd",
   "metadata": {},
   "outputs": [],
   "source": [
    "await piplite.install('shapely')\n",
    "await piplite.install('pypi/fast_histogram-0.14-cp39-abi3-pyodide_2024_0_wasm32.whl')\n",
    "await piplite.install('pypi/mpl_scatter_density-0.8-py3-none-any.whl')\n",
    "await piplite.install('pypi/glfw-2.9.0-py3-none-any.whl')\n",
    "await piplite.install('pypi/vispy-0.15.2-cp312-cp312-pyodide_2024_0_wasm32.whl')"
   ]
  },
  {
   "cell_type": "code",
   "execution_count": null,
   "id": "60a165d2",
   "metadata": {},
   "outputs": [],
   "source": [
    "# Do things like this to get around the fact that pyzmq is missing\n",
    "await piplite.install(\"glue-core\")\n",
    "await piplite.install(\"bqplot\")\n",
    "await piplite.install(\"bqplot_image_gl\")\n",
    "await piplite.install(\"ipykernel\")\n",
    "await piplite.install(\"ipyvue\")\n",
    "await piplite.install(\"ipyvuetify\")\n",
    "await piplite.install(\"ipywidgets\")\n"
   ]
  },
  {
   "cell_type": "code",
   "execution_count": null,
   "id": "b6172cc6",
   "metadata": {},
   "outputs": [],
   "source": [
    "await piplite.install(\"pypi/glue_jupyter-0.10.2.dev520+gafac49aed-py3-none-any.whl\", deps=False)"
   ]
  },
  {
   "cell_type": "code",
   "execution_count": null,
   "id": "3d6791f5",
   "metadata": {},
   "outputs": [],
   "source": [
    "from src.app import App\n",
    "\n",
    "App()"
   ]
  }
 ],
 "metadata": {
  "kernelspec": {
   "display_name": "Python",
   "language": "python",
   "name": "python"
  },
  "language_info": {
   "name": "python"
  }
 },
 "nbformat": 4,
 "nbformat_minor": 5
}
