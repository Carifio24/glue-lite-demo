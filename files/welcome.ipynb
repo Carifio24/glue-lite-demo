{
 "cells": [
  {
   "cell_type": "markdown",
   "id": "2a80ca7a",
   "metadata": {},
   "source": [
    "# 👋 Welcome to JupyterLite with Multiple Wheels\n",
    "This notebook runs **entirely in your browser** and uses your custom packages!"
   ]
  },
  {
   "cell_type": "code",
   "execution_count": null,
   "id": "598d9d58",
   "metadata": {},
   "outputs": [],
   "source": [
    "import piplite\n",
    "# await piplite.install('files/glue_core-1.0.1.dev914+g1ef9f279-py2.py3-none-any.whl')\n",
    "await piplite.install('glue_core-1.0.1.dev914+g1ef9f2790.d20250825-py3-none-any.whl')\n"
   ]
  }
 ],
 "metadata": {
  "kernelspec": {
   "display_name": "Python",
   "language": "python",
   "name": "python"
  },
  "language_info": {
   "name": "python"
  }
 },
 "nbformat": 4,
 "nbformat_minor": 5
}
